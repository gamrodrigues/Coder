{
 "cells": [
  {
   "cell_type": "markdown",
   "metadata": {},
   "source": [
    "Data Wrangling"
   ]
  },
  {
   "cell_type": "code",
   "execution_count": null,
   "metadata": {},
   "outputs": [],
   "source": [
    "import pandas as pd\n",
    "from datetime import datetime as dt\n",
    "import numpy as np\n",
    "import seaborn as sns\n",
    "import math"
   ]
  },
  {
   "cell_type": "code",
   "execution_count": null,
   "metadata": {},
   "outputs": [],
   "source": [
    "carros=pd.read_csv('Dataset - Venda de Carros .csv', encoding='latin1', sep=';')"
   ]
  },
  {
   "cell_type": "code",
   "execution_count": null,
   "metadata": {},
   "outputs": [],
   "source": [
    "carros.info()"
   ]
  },
  {
   "cell_type": "code",
   "execution_count": null,
   "metadata": {},
   "outputs": [],
   "source": [
    "carros.head()"
   ]
  },
  {
   "cell_type": "markdown",
   "metadata": {},
   "source": [
    "Duplicidades"
   ]
  },
  {
   "cell_type": "code",
   "execution_count": null,
   "metadata": {},
   "outputs": [],
   "source": [
    "carros.duplicated()"
   ]
  },
  {
   "cell_type": "code",
   "execution_count": null,
   "metadata": {},
   "outputs": [],
   "source": [
    "carros.duplicated().value_counts()"
   ]
  },
  {
   "cell_type": "code",
   "execution_count": null,
   "metadata": {},
   "outputs": [],
   "source": [
    "carros[carros.duplicated()]"
   ]
  },
  {
   "cell_type": "code",
   "execution_count": null,
   "metadata": {},
   "outputs": [],
   "source": [
    "carros[carros.duplicated(keep='last')]"
   ]
  },
  {
   "cell_type": "code",
   "execution_count": null,
   "metadata": {},
   "outputs": [],
   "source": [
    "carros[carros.duplicated(keep=False)]"
   ]
  },
  {
   "cell_type": "code",
   "execution_count": null,
   "metadata": {},
   "outputs": [],
   "source": [
    "carros.drop_duplicates(subset=['Nome_Carro','Ano_Fabricação']).sort_values(['Nome_Carro','Ano_Fabricação'])"
   ]
  },
  {
   "cell_type": "markdown",
   "metadata": {},
   "source": [
    "Datas"
   ]
  },
  {
   "cell_type": "code",
   "execution_count": null,
   "metadata": {},
   "outputs": [],
   "source": [
    "casas=pd.read_csv(\"Dataset - Casas.csv\",encoding='latin1', sep=';')\n",
    "casas.info()"
   ]
  },
  {
   "cell_type": "code",
   "execution_count": null,
   "metadata": {},
   "outputs": [],
   "source": [
    "casas.head()"
   ]
  },
  {
   "cell_type": "code",
   "execution_count": null,
   "metadata": {},
   "outputs": [],
   "source": [
    "casas.date#.str.split('T').str[0]"
   ]
  },
  {
   "cell_type": "code",
   "execution_count": null,
   "metadata": {},
   "outputs": [],
   "source": [
    "casas['data_coleta']=pd.to_datetime(casas.date.str.split('T').str[0],format='%Y%m%d')\n",
    "casas"
   ]
  },
  {
   "cell_type": "code",
   "execution_count": null,
   "metadata": {},
   "outputs": [],
   "source": [
    "casas['data_formatada']=casas.data_coleta.dt.strftime('%d/%m/%Y')\n",
    "casas"
   ]
  },
  {
   "cell_type": "markdown",
   "metadata": {},
   "source": [
    "Ordenação"
   ]
  },
  {
   "cell_type": "code",
   "execution_count": null,
   "metadata": {},
   "outputs": [],
   "source": [
    "casas=casas.sort_values('yr_built').reset_index(drop=True)\n",
    "casas"
   ]
  },
  {
   "cell_type": "code",
   "execution_count": null,
   "metadata": {},
   "outputs": [],
   "source": [
    "casas[casas.price.str.contains('e+')].price.value_counts()"
   ]
  },
  {
   "cell_type": "code",
   "execution_count": null,
   "metadata": {},
   "outputs": [],
   "source": [
    "casas.price=casas.price.str.upper().str.replace(',','.')"
   ]
  },
  {
   "cell_type": "code",
   "execution_count": null,
   "metadata": {},
   "outputs": [],
   "source": [
    "casas['preco']=np.where(casas.price.str.contains('E+'), casas.price.str.split('E+').str[0].astype(float)*1000000,casas.price.astype(float)).astype(int)\n",
    "casas['preco'].value_counts().sum()"
   ]
  },
  {
   "cell_type": "markdown",
   "metadata": {},
   "source": [
    "Group by"
   ]
  },
  {
   "cell_type": "code",
   "execution_count": null,
   "metadata": {},
   "outputs": [],
   "source": [
    "preco_medio=casas.groupby('yr_built')[['preco']].mean().astype(int)\n",
    "preco_medio"
   ]
  },
  {
   "cell_type": "code",
   "execution_count": null,
   "metadata": {},
   "outputs": [],
   "source": [
    "sns.lineplot(x=preco_medio.index,y=preco_medio.preco).set_title('Preço médio por ano de construção')"
   ]
  },
  {
   "cell_type": "markdown",
   "metadata": {},
   "source": [
    "Amostragem"
   ]
  },
  {
   "cell_type": "code",
   "execution_count": null,
   "metadata": {},
   "outputs": [],
   "source": [
    "# amostra de 10%\n",
    "amostra_casas_simples=casas.sample(n=len(casas)//10, random_state=25)\n",
    "amostra_casas_simples"
   ]
  },
  {
   "cell_type": "code",
   "execution_count": null,
   "metadata": {},
   "outputs": [],
   "source": [
    "# amostra de 10% para cada ano de construção\n",
    "anos=casas.yr_built.unique()\n",
    "amostra_casas_extratificada=pd.DataFrame()\n",
    "for i in anos:\n",
    "    aux=casas[casas.yr_built==i].copy()\n",
    "    amostra=aux.sample(n=math.ceil(len(aux)*0.1),random_state=25)\n",
    "    amostra_casas_extratificada=pd.concat([amostra_casas_extratificada,amostra])\n",
    "\n",
    "amostra_casas_extratificada"
   ]
  },
  {
   "cell_type": "code",
   "execution_count": null,
   "metadata": {},
   "outputs": [],
   "source": [
    "# amostra de 10% para comglomerados de 10%(1000)\n",
    "amostra_casas_conglomerados=pd.DataFrame()\n",
    "n_conglomerado=len(casas)//10\n",
    "aux=casas.copy()\n",
    "while True:\n",
    "    conglomerado=aux.sample(n=n_conglomerado, random_state=25)\n",
    "    amostra_casas_conglomerados=pd.concat([amostra_casas_conglomerados, conglomerado.sample(frac=0.1, random_state=25)])\n",
    "    aux.drop(conglomerado.index, axis=0, inplace=True)\n",
    "    if len(aux)==0:\n",
    "        break\n",
    "\n",
    "amostra_casas_conglomerados"
   ]
  },
  {
   "cell_type": "code",
   "execution_count": null,
   "metadata": {},
   "outputs": [],
   "source": [
    "# amostra com reposição\n",
    "amostra_casas_reposicao=casas.sample(n=20000, random_state=25)\n",
    "amostra_casas_reposicao"
   ]
  },
  {
   "cell_type": "code",
   "execution_count": null,
   "metadata": {},
   "outputs": [],
   "source": [
    "# amostra com reposição\n",
    "amostra_casas_reposicao=casas.sample(n=20000, random_state=25, replace=True)\n",
    "amostra_casas_reposicao"
   ]
  }
 ],
 "metadata": {
  "kernelspec": {
   "display_name": "base",
   "language": "python",
   "name": "python3"
  },
  "language_info": {
   "codemirror_mode": {
    "name": "ipython",
    "version": 3
   },
   "file_extension": ".py",
   "mimetype": "text/x-python",
   "name": "python",
   "nbconvert_exporter": "python",
   "pygments_lexer": "ipython3",
   "version": "3.11.7"
  }
 },
 "nbformat": 4,
 "nbformat_minor": 2
}
