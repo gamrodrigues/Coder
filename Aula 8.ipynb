{
 "cells": [
  {
   "cell_type": "markdown",
   "metadata": {},
   "source": [
    "Pandas parte I"
   ]
  },
  {
   "cell_type": "code",
   "execution_count": null,
   "metadata": {},
   "outputs": [],
   "source": [
    "#Importando\n",
    "import pandas as pd"
   ]
  },
  {
   "cell_type": "code",
   "execution_count": null,
   "metadata": {},
   "outputs": [],
   "source": [
    "#read_csv\n"
   ]
  },
  {
   "cell_type": "code",
   "execution_count": null,
   "metadata": {},
   "outputs": [],
   "source": [
    "# pip install openpyxl"
   ]
  },
  {
   "cell_type": "code",
   "execution_count": null,
   "metadata": {},
   "outputs": [],
   "source": [
    "#read_excel\n"
   ]
  },
  {
   "cell_type": "code",
   "execution_count": null,
   "metadata": {},
   "outputs": [],
   "source": [
    "#to_csv"
   ]
  },
  {
   "cell_type": "code",
   "execution_count": null,
   "metadata": {},
   "outputs": [],
   "source": [
    "#to_excel\n"
   ]
  },
  {
   "cell_type": "code",
   "execution_count": null,
   "metadata": {},
   "outputs": [],
   "source": [
    "#Excel_writer"
   ]
  },
  {
   "cell_type": "code",
   "execution_count": null,
   "metadata": {},
   "outputs": [],
   "source": [
    "#leitura da base de dados\n",
    "# pd.read_csv('Dataset - Venda de Carros .csv')\n",
    "# pd.read_csv('Dataset - Venda de Carros .csv', encoding='latin1')\n",
    "# pd.read_csv('Dataset - Venda de Carros .csv',  encoding='latin1', sep=';')\n",
    "df=pd.read_csv('Dataset - Venda de Carros .csv',  encoding='latin1', sep=';', decimal=',')\n",
    "df"
   ]
  },
  {
   "cell_type": "code",
   "execution_count": null,
   "metadata": {},
   "outputs": [],
   "source": [
    "df['indice']=range(1,len(df)+1)\n",
    "df"
   ]
  },
  {
   "cell_type": "code",
   "execution_count": null,
   "metadata": {},
   "outputs": [],
   "source": [
    "#info\n",
    "df.info()"
   ]
  },
  {
   "cell_type": "code",
   "execution_count": null,
   "metadata": {},
   "outputs": [],
   "source": [
    "#index\n",
    "# print(df.index)\n",
    "# print(list(df.index))\n",
    "\n",
    "#set_index\n",
    "# df.set_index('indice')\n",
    "# df.set_index('indice', inplace=True)\n",
    "# print((df.index))\n",
    "# print(list(df.index))\n",
    "\n",
    "#reset_index\n",
    "# df.reset_index()"
   ]
  },
  {
   "cell_type": "code",
   "execution_count": null,
   "metadata": {},
   "outputs": [],
   "source": [
    "#columns\n",
    "# df.columns"
   ]
  },
  {
   "cell_type": "code",
   "execution_count": null,
   "metadata": {},
   "outputs": [],
   "source": [
    "#loc\n",
    "# df.loc[:,['Nome_Carro','Ano_Fabricação','Km_Rodados']]\n",
    "# df.loc[0,['Nome_Carro','Ano_Fabricação','Km_Rodados']]\n",
    "\n",
    "#iloc\n",
    "# df.iloc[:,[0,1,4]]\n",
    "# df.iloc[0,[0,1,4]]\n",
    "\n",
    "#filtros\n",
    "# df[df.Nome_Carro == 'ritz']\n",
    "# df[df['Ano_Fabricação'] > 2010]\n",
    "# df[(df['Preço_Venda'] > 5)&(df.Tipo_Motor == 'Gasolina')&(df.Donos.isin([1,2,3]))]"
   ]
  },
  {
   "cell_type": "code",
   "execution_count": null,
   "metadata": {},
   "outputs": [],
   "source": [
    "#describe\n",
    "df.describe()"
   ]
  },
  {
   "cell_type": "code",
   "execution_count": null,
   "metadata": {},
   "outputs": [],
   "source": [
    "df.describe(include='all')"
   ]
  },
  {
   "cell_type": "code",
   "execution_count": null,
   "metadata": {},
   "outputs": [],
   "source": [
    "#isnull\n",
    "# df[df.Nome_Carro.isnull()]\n",
    "# df[df.Km_Rodados.isnull()]\n",
    "# df[df.Preço_Venda.isnull()]\n",
    "# df[df.Preço_Atual.isnull()]\n",
    "# df[(df['Preço_Venda'].isnull())&(df['Preço_Atual']).isnull()]\n"
   ]
  },
  {
   "cell_type": "code",
   "execution_count": null,
   "metadata": {},
   "outputs": [],
   "source": [
    "df.info()"
   ]
  },
  {
   "cell_type": "code",
   "execution_count": null,
   "metadata": {},
   "outputs": [],
   "source": [
    "#dropna\n",
    "# df.dropna()\n",
    "# df.dropna(axis='columns')\n",
    "# df.dropna(how='all')\n",
    "# df.dropna(subset=['Preço_Venda','Preço_Atual'])\n",
    "# df.dropna(subset=['Km_Rodados'])\n"
   ]
  },
  {
   "cell_type": "code",
   "execution_count": null,
   "metadata": {},
   "outputs": [],
   "source": [
    "#duplicados\n",
    "#duplicated\n",
    "# df[df.duplicated()]\n",
    "# df[df.Preço_Atual.duplicated()]\n",
    "# df[df.Preço_Atual.duplicated('first')]\n",
    "# df[df.Preço_Atual.duplicated('last')]\n",
    "# df[df.Preço_Atual.duplicated(False)]\n",
    "\n",
    "#drop_duplicates\n",
    "# df.drop_duplicates()\n",
    "# df.drop_duplicates(subset=['Ano_Fabricação'])\n",
    "# df.drop_duplicates(['Preço_Venda'])"
   ]
  },
  {
   "cell_type": "code",
   "execution_count": null,
   "metadata": {},
   "outputs": [],
   "source": [
    "#operações\n",
    "len(df)\n",
    "df.Nome_Carro.str.len()\n",
    "\n",
    "\n",
    "\n"
   ]
  },
  {
   "cell_type": "code",
   "execution_count": null,
   "metadata": {},
   "outputs": [],
   "source": [
    "df.Nome_Carro.str.lower()\n",
    "df.Nome_Carro.str.upper()\n",
    "df.Nome_Carro.str.capitalize()"
   ]
  },
  {
   "cell_type": "code",
   "execution_count": null,
   "metadata": {},
   "outputs": [],
   "source": [
    "df.Nome_Carro.str.replace('city','city n')"
   ]
  },
  {
   "cell_type": "code",
   "execution_count": null,
   "metadata": {},
   "outputs": [],
   "source": [
    "df[df.Nome_Carro.str.contains('Honda')]"
   ]
  },
  {
   "cell_type": "code",
   "execution_count": null,
   "metadata": {},
   "outputs": [],
   "source": [
    "# df.Ano_Fabricação.str.split('.')\n",
    "df.Ano_Fabricação.astype(str).astype(str).str.split('.')\n",
    "df.Ano_Fabricação.astype(str).astype(str).str.split('.').str[0]\n",
    "df.Ano_Fabricação.astype(str).astype(str).str.split('.').str[0].astype(int)"
   ]
  }
 ],
 "metadata": {
  "kernelspec": {
   "display_name": "base",
   "language": "python",
   "name": "python3"
  },
  "language_info": {
   "codemirror_mode": {
    "name": "ipython",
    "version": 3
   },
   "file_extension": ".py",
   "mimetype": "text/x-python",
   "name": "python",
   "nbconvert_exporter": "python",
   "pygments_lexer": "ipython3",
   "version": "3.11.7"
  }
 },
 "nbformat": 4,
 "nbformat_minor": 2
}
