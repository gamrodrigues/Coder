{
 "cells": [
  {
   "cell_type": "markdown",
   "metadata": {},
   "source": [
    "# Virtual Environment"
   ]
  },
  {
   "cell_type": "markdown",
   "metadata": {},
   "source": [
    "Atualizando o pip"
   ]
  },
  {
   "cell_type": "code",
   "execution_count": 26,
   "metadata": {},
   "outputs": [
    {
     "name": "stdout",
     "output_type": "stream",
     "text": [
      "Requirement already satisfied: pip in c:\\users\\gabriel\\anaconda3\\lib\\site-packages (24.2)\n",
      "Note: you may need to restart the kernel to use updated packages.\n"
     ]
    }
   ],
   "source": [
    "pip install --upgrade pip"
   ]
  },
  {
   "cell_type": "code",
   "execution_count": 28,
   "metadata": {},
   "outputs": [],
   "source": [
    "#caso o pip não atualize, ver a versão de atualização do bash"
   ]
  },
  {
   "cell_type": "markdown",
   "metadata": {},
   "source": [
    "Instalando pandas na versão mais atual"
   ]
  },
  {
   "cell_type": "code",
   "execution_count": 36,
   "metadata": {},
   "outputs": [
    {
     "name": "stdout",
     "output_type": "stream",
     "text": [
      "Requirement already satisfied: pandas in c:\\users\\gabriel\\anaconda3\\lib\\site-packages (2.1.1)\n",
      "Collecting pandas\n",
      "  Using cached pandas-2.2.2-cp311-cp311-win_amd64.whl.metadata (19 kB)\n",
      "Requirement already satisfied: numpy>=1.23.2 in c:\\users\\gabriel\\anaconda3\\lib\\site-packages (from pandas) (1.26.4)\n",
      "Requirement already satisfied: python-dateutil>=2.8.2 in c:\\users\\gabriel\\anaconda3\\lib\\site-packages (from pandas) (2.9.0.post0)\n",
      "Requirement already satisfied: pytz>=2020.1 in c:\\users\\gabriel\\anaconda3\\lib\\site-packages (from pandas) (2024.1)\n",
      "Requirement already satisfied: tzdata>=2022.7 in c:\\users\\gabriel\\anaconda3\\lib\\site-packages (from pandas) (2023.3)\n",
      "Requirement already satisfied: six>=1.5 in c:\\users\\gabriel\\anaconda3\\lib\\site-packages (from python-dateutil>=2.8.2->pandas) (1.16.0)\n",
      "Using cached pandas-2.2.2-cp311-cp311-win_amd64.whl (11.6 MB)\n",
      "Installing collected packages: pandas\n",
      "  Attempting uninstall: pandas\n",
      "    Found existing installation: pandas 2.1.1\n",
      "    Uninstalling pandas-2.1.1:\n",
      "      Successfully uninstalled pandas-2.1.1\n",
      "Successfully installed pandas-2.2.2\n",
      "Note: you may need to restart the kernel to use updated packages.\n"
     ]
    },
    {
     "name": "stderr",
     "output_type": "stream",
     "text": [
      "  WARNING: Failed to remove contents in a temporary directory 'C:\\Users\\Gabriel\\AppData\\Local\\Temp\\pip-uninstall-mv82m9kw'.\n",
      "  You can safely remove it manually.\n",
      "  WARNING: Failed to remove contents in a temporary directory 'C:\\Users\\Gabriel\\anaconda3\\Lib\\site-packages\\~-ndas'.\n",
      "  You can safely remove it manually.\n"
     ]
    }
   ],
   "source": [
    "pip install --upgrade pandas"
   ]
  },
  {
   "cell_type": "markdown",
   "metadata": {},
   "source": [
    "Verificando a versão"
   ]
  },
  {
   "cell_type": "code",
   "execution_count": 37,
   "metadata": {},
   "outputs": [
    {
     "name": "stdout",
     "output_type": "stream",
     "text": [
      "Name: pandas\n",
      "Version: 2.2.2\n",
      "Summary: Powerful data structures for data analysis, time series, and statistics\n",
      "Home-page: https://pandas.pydata.org\n",
      "Author: \n",
      "Author-email: The Pandas Development Team <pandas-dev@python.org>\n",
      "License: BSD 3-Clause License\n",
      "\n",
      "Copyright (c) 2008-2011, AQR Capital Management, LLC, Lambda Foundry, Inc. and PyData Development Team\n",
      "All rights reserved.\n",
      "\n",
      "Copyright (c) 2011-2023, Open source contributors.\n",
      "\n",
      "Redistribution and use in source and binary forms, with or without\n",
      "modification, are permitted provided that the following conditions are met:\n",
      "\n",
      "* Redistributions of source code must retain the above copyright notice, this\n",
      "  list of conditions and the following disclaimer.\n",
      "\n",
      "* Redistributions in binary form must reproduce the above copyright notice,\n",
      "  this list of conditions and the following disclaimer in the documentation\n",
      "  and/or other materials provided with the distribution.\n",
      "\n",
      "* Neither the name of the copyright holder nor the names of its\n",
      "  contributors may be used to endorse or promote products derived from\n",
      "  this software without specific prior written permission.\n",
      "\n",
      "THIS SOFTWARE IS PROVIDED BY THE COPYRIGHT HOLDERS AND CONTRIBUTORS \"AS IS\"\n",
      "AND ANY EXPRESS OR IMPLIED WARRANTIES, INCLUDING, BUT NOT LIMITED TO, THE\n",
      "IMPLIED WARRANTIES OF MERCHANTABILITY AND FITNESS FOR A PARTICULAR PURPOSE ARE\n",
      "DISCLAIMED. IN NO EVENT SHALL THE COPYRIGHT HOLDER OR CONTRIBUTORS BE LIABLE\n",
      "FOR ANY DIRECT, INDIRECT, INCIDENTAL, SPECIAL, EXEMPLARY, OR CONSEQUENTIAL\n",
      "DAMAGES (INCLUDING, BUT NOT LIMITED TO, PROCUREMENT OF SUBSTITUTE GOODS OR\n",
      "SERVICES; LOSS OF USE, DATA, OR PROFITS; OR BUSINESS INTERRUPTION) HOWEVER\n",
      "CAUSED AND ON ANY THEORY OF LIABILITY, WHETHER IN CONTRACT, STRICT LIABILITY,\n",
      "OR TORT (INCLUDING NEGLIGENCE OR OTHERWISE) ARISING IN ANY WAY OUT OF THE USE\n",
      "OF THIS SOFTWARE, EVEN IF ADVISED OF THE POSSIBILITY OF SUCH DAMAGE.\n",
      "Location: c:\\Users\\Gabriel\\anaconda3\\Lib\\site-packages\n",
      "Requires: numpy, python-dateutil, pytz, tzdata\n",
      "Required-by: altair, bokeh, dask-expr, datashader, holoviews, hvplot, panel, seaborn, statsmodels, streamlit, xarray\n",
      "Note: you may need to restart the kernel to use updated packages.\n"
     ]
    }
   ],
   "source": [
    "pip show pandas"
   ]
  },
  {
   "cell_type": "markdown",
   "metadata": {},
   "source": [
    "Criando um arquivo no diretório ativo (com as versões das bibliotecas instaladas)"
   ]
  },
  {
   "cell_type": "code",
   "execution_count": 38,
   "metadata": {},
   "outputs": [
    {
     "name": "stdout",
     "output_type": "stream",
     "text": [
      "Note: you may need to restart the kernel to use updated packages.\n"
     ]
    }
   ],
   "source": [
    "pip freeze > requirements.txt"
   ]
  },
  {
   "cell_type": "markdown",
   "metadata": {},
   "source": [
    "Modificando o arquivo para manter somente os pacotes instalados nas versões específicas"
   ]
  },
  {
   "cell_type": "code",
   "execution_count": 39,
   "metadata": {},
   "outputs": [],
   "source": [
    "import pandas as pd\n",
    "requirements=pd.Series(pd.read_csv('requirements.txt', header=None).iloc[:,0])\n",
    "pd.DataFrame(requirements[requirements.str.contains('==')]).to_csv('requirements.txt', index=False, columns=None)"
   ]
  },
  {
   "cell_type": "markdown",
   "metadata": {},
   "source": [
    "Fixando uma versão específica do pandas anterior à salva em requirements"
   ]
  },
  {
   "cell_type": "code",
   "execution_count": 40,
   "metadata": {},
   "outputs": [
    {
     "name": "stdout",
     "output_type": "stream",
     "text": [
      "Collecting pandas==2.1.1\n",
      "  Using cached pandas-2.1.1-cp311-cp311-win_amd64.whl.metadata (18 kB)\n",
      "Requirement already satisfied: numpy>=1.23.2 in c:\\users\\gabriel\\anaconda3\\lib\\site-packages (from pandas==2.1.1) (1.26.4)\n",
      "Requirement already satisfied: python-dateutil>=2.8.2 in c:\\users\\gabriel\\anaconda3\\lib\\site-packages (from pandas==2.1.1) (2.9.0.post0)\n",
      "Requirement already satisfied: pytz>=2020.1 in c:\\users\\gabriel\\anaconda3\\lib\\site-packages (from pandas==2.1.1) (2024.1)\n",
      "Requirement already satisfied: tzdata>=2022.1 in c:\\users\\gabriel\\anaconda3\\lib\\site-packages (from pandas==2.1.1) (2023.3)\n",
      "Requirement already satisfied: six>=1.5 in c:\\users\\gabriel\\anaconda3\\lib\\site-packages (from python-dateutil>=2.8.2->pandas==2.1.1) (1.16.0)\n",
      "Using cached pandas-2.1.1-cp311-cp311-win_amd64.whl (10.6 MB)\n",
      "Installing collected packages: pandas\n",
      "  Attempting uninstall: pandas\n",
      "    Found existing installation: pandas 2.2.2\n",
      "    Uninstalling pandas-2.2.2:\n",
      "      Successfully uninstalled pandas-2.2.2\n",
      "Successfully installed pandas-2.1.1\n",
      "Note: you may need to restart the kernel to use updated packages.\n"
     ]
    }
   ],
   "source": [
    "pip install pandas==2.1.1"
   ]
  },
  {
   "cell_type": "markdown",
   "metadata": {},
   "source": [
    "Verificando a versão"
   ]
  },
  {
   "cell_type": "code",
   "execution_count": 41,
   "metadata": {},
   "outputs": [
    {
     "name": "stdout",
     "output_type": "stream",
     "text": [
      "Name: pandas\n",
      "Version: 2.1.1\n",
      "Summary: Powerful data structures for data analysis, time series, and statistics\n",
      "Home-page: https://pandas.pydata.org\n",
      "Author: \n",
      "Author-email: The Pandas Development Team <pandas-dev@python.org>\n",
      "License: BSD 3-Clause License\n",
      "\n",
      "Copyright (c) 2008-2011, AQR Capital Management, LLC, Lambda Foundry, Inc. and PyData Development Team\n",
      "All rights reserved.\n",
      "\n",
      "Copyright (c) 2011-2023, Open source contributors.\n",
      "\n",
      "Redistribution and use in source and binary forms, with or without\n",
      "modification, are permitted provided that the following conditions are met:\n",
      "\n",
      "* Redistributions of source code must retain the above copyright notice, this\n",
      "  list of conditions and the following disclaimer.\n",
      "\n",
      "* Redistributions in binary form must reproduce the above copyright notice,\n",
      "  this list of conditions and the following disclaimer in the documentation\n",
      "  and/or other materials provided with the distribution.\n",
      "\n",
      "* Neither the name of the copyright holder nor the names of its\n",
      "  contributors may be used to endorse or promote products derived from\n",
      "  this software without specific prior written permission.\n",
      "\n",
      "THIS SOFTWARE IS PROVIDED BY THE COPYRIGHT HOLDERS AND CONTRIBUTORS \"AS IS\"\n",
      "AND ANY EXPRESS OR IMPLIED WARRANTIES, INCLUDING, BUT NOT LIMITED TO, THE\n",
      "IMPLIED WARRANTIES OF MERCHANTABILITY AND FITNESS FOR A PARTICULAR PURPOSE ARE\n",
      "DISCLAIMED. IN NO EVENT SHALL THE COPYRIGHT HOLDER OR CONTRIBUTORS BE LIABLE\n",
      "FOR ANY DIRECT, INDIRECT, INCIDENTAL, SPECIAL, EXEMPLARY, OR CONSEQUENTIAL\n",
      "DAMAGES (INCLUDING, BUT NOT LIMITED TO, PROCUREMENT OF SUBSTITUTE GOODS OR\n",
      "SERVICES; LOSS OF USE, DATA, OR PROFITS; OR BUSINESS INTERRUPTION) HOWEVER\n",
      "CAUSED AND ON ANY THEORY OF LIABILITY, WHETHER IN CONTRACT, STRICT LIABILITY,\n",
      "OR TORT (INCLUDING NEGLIGENCE OR OTHERWISE) ARISING IN ANY WAY OUT OF THE USE\n",
      "OF THIS SOFTWARE, EVEN IF ADVISED OF THE POSSIBILITY OF SUCH DAMAGE.\n",
      "Location: c:\\Users\\Gabriel\\anaconda3\\Lib\\site-packages\n",
      "Requires: numpy, python-dateutil, pytz, tzdata\n",
      "Required-by: altair, bokeh, dask-expr, datashader, holoviews, hvplot, panel, seaborn, statsmodels, streamlit, xarray\n",
      "Note: you may need to restart the kernel to use updated packages.\n"
     ]
    }
   ],
   "source": [
    "pip show pandas"
   ]
  },
  {
   "cell_type": "markdown",
   "metadata": {},
   "source": [
    "Instalando os arquivos nas versões salvas anteriormente"
   ]
  },
  {
   "cell_type": "code",
   "execution_count": 42,
   "metadata": {},
   "outputs": [
    {
     "name": "stdout",
     "output_type": "stream",
     "text": [
      "Requirement already satisfied: 0 in c:\\users\\gabriel\\anaconda3\\lib\\site-packages (from -r requirements.txt (line 1)) (0.0.0)\n",
      "Requirement already satisfied: appdirs==1.4.4 in c:\\users\\gabriel\\anaconda3\\lib\\site-packages (from -r requirements.txt (line 3)) (1.4.4)\n",
      "Requirement already satisfied: atomicwrites==1.4.0 in c:\\users\\gabriel\\anaconda3\\lib\\site-packages (from -r requirements.txt (line 4)) (1.4.0)\n",
      "Requirement already satisfied: backports.weakref==1.0.post1 in c:\\users\\gabriel\\anaconda3\\lib\\site-packages (from -r requirements.txt (line 5)) (1.0.post1)\n",
      "Requirement already satisfied: clyent==1.2.2 in c:\\users\\gabriel\\anaconda3\\lib\\site-packages (from -r requirements.txt (line 6)) (1.2.2)\n",
      "Requirement already satisfied: conda-verify==3.4.2 in c:\\users\\gabriel\\anaconda3\\lib\\site-packages (from -r requirements.txt (line 7)) (3.4.2)\n",
      "Requirement already satisfied: distlib==0.3.8 in c:\\users\\gabriel\\anaconda3\\lib\\site-packages (from -r requirements.txt (line 8)) (0.3.8)\n",
      "Requirement already satisfied: et-xmlfile==1.1.0 in c:\\users\\gabriel\\anaconda3\\lib\\site-packages (from -r requirements.txt (line 9)) (1.1.0)\n",
      "Requirement already satisfied: inflection==0.5.1 in c:\\users\\gabriel\\anaconda3\\lib\\site-packages (from -r requirements.txt (line 10)) (0.5.1)\n",
      "Requirement already satisfied: jsonpointer==2.1 in c:\\users\\gabriel\\anaconda3\\lib\\site-packages (from -r requirements.txt (line 11)) (2.1)\n",
      "Requirement already satisfied: missingno==0.5.2 in c:\\users\\gabriel\\anaconda3\\lib\\site-packages (from -r requirements.txt (line 12)) (0.5.2)\n",
      "Requirement already satisfied: mkl-service==2.4.0 in c:\\users\\gabriel\\anaconda3\\lib\\site-packages (from -r requirements.txt (line 13)) (2.4.0)\n",
      "Requirement already satisfied: munkres==1.1.4 in c:\\users\\gabriel\\anaconda3\\lib\\site-packages (from -r requirements.txt (line 14)) (1.1.4)\n",
      "Collecting pandas==2.2.2 (from -r requirements.txt (line 15))\n",
      "  Using cached pandas-2.2.2-cp311-cp311-win_amd64.whl.metadata (19 kB)\n",
      "Requirement already satisfied: playsound==1.3.0 in c:\\users\\gabriel\\anaconda3\\lib\\site-packages (from -r requirements.txt (line 16)) (1.3.0)\n",
      "Requirement already satisfied: ply==3.11 in c:\\users\\gabriel\\anaconda3\\lib\\site-packages (from -r requirements.txt (line 17)) (3.11)\n",
      "Requirement already satisfied: plyer==2.1.0 in c:\\users\\gabriel\\anaconda3\\lib\\site-packages (from -r requirements.txt (line 18)) (2.1.0)\n",
      "Requirement already satisfied: protobuf==3.20.3 in c:\\users\\gabriel\\anaconda3\\lib\\site-packages (from -r requirements.txt (line 19)) (3.20.3)\n",
      "Requirement already satisfied: pyasn1-modules==0.2.8 in c:\\users\\gabriel\\anaconda3\\lib\\site-packages (from -r requirements.txt (line 20)) (0.2.8)\n",
      "Requirement already satisfied: pycurl==7.45.2 in c:\\users\\gabriel\\anaconda3\\lib\\site-packages (from -r requirements.txt (line 21)) (7.45.2)\n",
      "Requirement already satisfied: PyDispatcher==2.0.5 in c:\\users\\gabriel\\anaconda3\\lib\\site-packages (from -r requirements.txt (line 22)) (2.0.5)\n",
      "Requirement already satisfied: pyls-spyder==0.4.0 in c:\\users\\gabriel\\anaconda3\\lib\\site-packages (from -r requirements.txt (line 23)) (0.4.0)\n",
      "Requirement already satisfied: PyQt5==5.15.10 in c:\\users\\gabriel\\anaconda3\\lib\\site-packages (from -r requirements.txt (line 24)) (5.15.10)\n",
      "Requirement already satisfied: PyQtWebEngine==5.15.6 in c:\\users\\gabriel\\anaconda3\\lib\\site-packages (from -r requirements.txt (line 25)) (5.15.6)\n",
      "Requirement already satisfied: pywin32==305.1 in c:\\users\\gabriel\\anaconda3\\lib\\site-packages (from -r requirements.txt (line 26)) (305.1)\n",
      "Requirement already satisfied: virtualenv==20.26.3 in c:\\users\\gabriel\\anaconda3\\lib\\site-packages (from -r requirements.txt (line 27)) (20.26.3)\n",
      "Requirement already satisfied: virtualenvwrapper-win==1.2.7 in c:\\users\\gabriel\\anaconda3\\lib\\site-packages (from -r requirements.txt (line 28)) (1.2.7)\n",
      "Requirement already satisfied: webencodings==0.5.1 in c:\\users\\gabriel\\anaconda3\\lib\\site-packages (from -r requirements.txt (line 29)) (0.5.1)\n",
      "Requirement already satisfied: XlsxWriter==3.2.0 in c:\\users\\gabriel\\anaconda3\\lib\\site-packages (from -r requirements.txt (line 30)) (3.2.0)\n",
      "Requirement already satisfied: click>=6.7 in c:\\users\\gabriel\\anaconda3\\lib\\site-packages (from conda-verify==3.4.2->-r requirements.txt (line 7)) (8.1.7)\n",
      "Requirement already satisfied: future>=0.12.0 in c:\\users\\gabriel\\anaconda3\\lib\\site-packages (from conda-verify==3.4.2->-r requirements.txt (line 7)) (0.18.3)\n",
      "Requirement already satisfied: jinja2>=2.9 in c:\\users\\gabriel\\anaconda3\\lib\\site-packages (from conda-verify==3.4.2->-r requirements.txt (line 7)) (3.1.4)\n",
      "Requirement already satisfied: pyyaml>=3.12 in c:\\users\\gabriel\\anaconda3\\lib\\site-packages (from conda-verify==3.4.2->-r requirements.txt (line 7)) (6.0.1)\n",
      "Requirement already satisfied: six in c:\\users\\gabriel\\anaconda3\\lib\\site-packages (from conda-verify==3.4.2->-r requirements.txt (line 7)) (1.16.0)\n",
      "Requirement already satisfied: backports.tempfile in c:\\users\\gabriel\\anaconda3\\lib\\site-packages (from conda-verify==3.4.2->-r requirements.txt (line 7)) (1.0)\n",
      "Requirement already satisfied: backports.functools-lru-cache>=1.4 in c:\\users\\gabriel\\anaconda3\\lib\\site-packages (from conda-verify==3.4.2->-r requirements.txt (line 7)) (1.6.4)\n",
      "Requirement already satisfied: numpy in c:\\users\\gabriel\\anaconda3\\lib\\site-packages (from missingno==0.5.2->-r requirements.txt (line 12)) (1.26.4)\n",
      "Requirement already satisfied: matplotlib in c:\\users\\gabriel\\anaconda3\\lib\\site-packages (from missingno==0.5.2->-r requirements.txt (line 12)) (3.8.4)\n",
      "Requirement already satisfied: scipy in c:\\users\\gabriel\\anaconda3\\lib\\site-packages (from missingno==0.5.2->-r requirements.txt (line 12)) (1.13.1)\n",
      "Requirement already satisfied: seaborn in c:\\users\\gabriel\\anaconda3\\lib\\site-packages (from missingno==0.5.2->-r requirements.txt (line 12)) (0.13.2)\n",
      "Requirement already satisfied: python-dateutil>=2.8.2 in c:\\users\\gabriel\\anaconda3\\lib\\site-packages (from pandas==2.2.2->-r requirements.txt (line 15)) (2.9.0.post0)\n",
      "Requirement already satisfied: pytz>=2020.1 in c:\\users\\gabriel\\anaconda3\\lib\\site-packages (from pandas==2.2.2->-r requirements.txt (line 15)) (2024.1)\n",
      "Requirement already satisfied: tzdata>=2022.7 in c:\\users\\gabriel\\anaconda3\\lib\\site-packages (from pandas==2.2.2->-r requirements.txt (line 15)) (2023.3)\n",
      "Requirement already satisfied: pyasn1<0.5.0,>=0.4.6 in c:\\users\\gabriel\\anaconda3\\lib\\site-packages (from pyasn1-modules==0.2.8->-r requirements.txt (line 20)) (0.4.8)\n",
      "Requirement already satisfied: python-lsp-server>=1.0.1 in c:\\users\\gabriel\\anaconda3\\lib\\site-packages (from pyls-spyder==0.4.0->-r requirements.txt (line 23)) (1.10.0)\n",
      "Requirement already satisfied: PyQt5-sip<13,>=12.13 in c:\\users\\gabriel\\anaconda3\\lib\\site-packages (from PyQt5==5.15.10->-r requirements.txt (line 24)) (12.13.0)\n",
      "Requirement already satisfied: filelock<4,>=3.12.2 in c:\\users\\gabriel\\anaconda3\\lib\\site-packages (from virtualenv==20.26.3->-r requirements.txt (line 27)) (3.13.1)\n",
      "Requirement already satisfied: platformdirs<5,>=3.9.1 in c:\\users\\gabriel\\anaconda3\\lib\\site-packages (from virtualenv==20.26.3->-r requirements.txt (line 27)) (3.10.0)\n",
      "Requirement already satisfied: colorama in c:\\users\\gabriel\\anaconda3\\lib\\site-packages (from click>=6.7->conda-verify==3.4.2->-r requirements.txt (line 7)) (0.4.6)\n",
      "Requirement already satisfied: MarkupSafe>=2.0 in c:\\users\\gabriel\\anaconda3\\lib\\site-packages (from jinja2>=2.9->conda-verify==3.4.2->-r requirements.txt (line 7)) (2.1.3)\n",
      "Requirement already satisfied: docstring-to-markdown in c:\\users\\gabriel\\anaconda3\\lib\\site-packages (from python-lsp-server>=1.0.1->pyls-spyder==0.4.0->-r requirements.txt (line 23)) (0.11)\n",
      "Requirement already satisfied: jedi<0.20.0,>=0.17.2 in c:\\users\\gabriel\\anaconda3\\lib\\site-packages (from python-lsp-server>=1.0.1->pyls-spyder==0.4.0->-r requirements.txt (line 23)) (0.19.1)\n",
      "Requirement already satisfied: pluggy>=1.0.0 in c:\\users\\gabriel\\anaconda3\\lib\\site-packages (from python-lsp-server>=1.0.1->pyls-spyder==0.4.0->-r requirements.txt (line 23)) (1.0.0)\n",
      "Requirement already satisfied: python-lsp-jsonrpc<2.0.0,>=1.1.0 in c:\\users\\gabriel\\anaconda3\\lib\\site-packages (from python-lsp-server>=1.0.1->pyls-spyder==0.4.0->-r requirements.txt (line 23)) (1.1.2)\n",
      "Requirement already satisfied: ujson>=3.0.0 in c:\\users\\gabriel\\anaconda3\\lib\\site-packages (from python-lsp-server>=1.0.1->pyls-spyder==0.4.0->-r requirements.txt (line 23)) (5.10.0)\n",
      "Requirement already satisfied: contourpy>=1.0.1 in c:\\users\\gabriel\\anaconda3\\lib\\site-packages (from matplotlib->missingno==0.5.2->-r requirements.txt (line 12)) (1.2.0)\n",
      "Requirement already satisfied: cycler>=0.10 in c:\\users\\gabriel\\anaconda3\\lib\\site-packages (from matplotlib->missingno==0.5.2->-r requirements.txt (line 12)) (0.11.0)\n",
      "Requirement already satisfied: fonttools>=4.22.0 in c:\\users\\gabriel\\anaconda3\\lib\\site-packages (from matplotlib->missingno==0.5.2->-r requirements.txt (line 12)) (4.51.0)\n",
      "Requirement already satisfied: kiwisolver>=1.3.1 in c:\\users\\gabriel\\anaconda3\\lib\\site-packages (from matplotlib->missingno==0.5.2->-r requirements.txt (line 12)) (1.4.4)\n",
      "Requirement already satisfied: packaging>=20.0 in c:\\users\\gabriel\\anaconda3\\lib\\site-packages (from matplotlib->missingno==0.5.2->-r requirements.txt (line 12)) (24.1)\n",
      "Requirement already satisfied: pillow>=8 in c:\\users\\gabriel\\anaconda3\\lib\\site-packages (from matplotlib->missingno==0.5.2->-r requirements.txt (line 12)) (10.4.0)\n",
      "Requirement already satisfied: pyparsing>=2.3.1 in c:\\users\\gabriel\\anaconda3\\lib\\site-packages (from matplotlib->missingno==0.5.2->-r requirements.txt (line 12)) (3.0.9)\n",
      "Requirement already satisfied: parso<0.9.0,>=0.8.3 in c:\\users\\gabriel\\anaconda3\\lib\\site-packages (from jedi<0.20.0,>=0.17.2->python-lsp-server>=1.0.1->pyls-spyder==0.4.0->-r requirements.txt (line 23)) (0.8.3)\n",
      "Using cached pandas-2.2.2-cp311-cp311-win_amd64.whl (11.6 MB)\n",
      "Installing collected packages: pandas\n",
      "  Attempting uninstall: pandas\n",
      "    Found existing installation: pandas 2.1.1\n",
      "    Uninstalling pandas-2.1.1:\n",
      "      Successfully uninstalled pandas-2.1.1\n",
      "Successfully installed pandas-2.2.2\n",
      "Note: you may need to restart the kernel to use updated packages.\n"
     ]
    }
   ],
   "source": [
    "pip install -r requirements.txt"
   ]
  },
  {
   "cell_type": "markdown",
   "metadata": {},
   "source": [
    "Verificando a versão"
   ]
  },
  {
   "cell_type": "code",
   "execution_count": 43,
   "metadata": {},
   "outputs": [
    {
     "name": "stdout",
     "output_type": "stream",
     "text": [
      "Name: pandas\n",
      "Version: 2.2.2\n",
      "Summary: Powerful data structures for data analysis, time series, and statistics\n",
      "Home-page: https://pandas.pydata.org\n",
      "Author: \n",
      "Author-email: The Pandas Development Team <pandas-dev@python.org>\n",
      "License: BSD 3-Clause License\n",
      "\n",
      "Copyright (c) 2008-2011, AQR Capital Management, LLC, Lambda Foundry, Inc. and PyData Development Team\n",
      "All rights reserved.\n",
      "\n",
      "Copyright (c) 2011-2023, Open source contributors.\n",
      "\n",
      "Redistribution and use in source and binary forms, with or without\n",
      "modification, are permitted provided that the following conditions are met:\n",
      "\n",
      "* Redistributions of source code must retain the above copyright notice, this\n",
      "  list of conditions and the following disclaimer.\n",
      "\n",
      "* Redistributions in binary form must reproduce the above copyright notice,\n",
      "  this list of conditions and the following disclaimer in the documentation\n",
      "  and/or other materials provided with the distribution.\n",
      "\n",
      "* Neither the name of the copyright holder nor the names of its\n",
      "  contributors may be used to endorse or promote products derived from\n",
      "  this software without specific prior written permission.\n",
      "\n",
      "THIS SOFTWARE IS PROVIDED BY THE COPYRIGHT HOLDERS AND CONTRIBUTORS \"AS IS\"\n",
      "AND ANY EXPRESS OR IMPLIED WARRANTIES, INCLUDING, BUT NOT LIMITED TO, THE\n",
      "IMPLIED WARRANTIES OF MERCHANTABILITY AND FITNESS FOR A PARTICULAR PURPOSE ARE\n",
      "DISCLAIMED. IN NO EVENT SHALL THE COPYRIGHT HOLDER OR CONTRIBUTORS BE LIABLE\n",
      "FOR ANY DIRECT, INDIRECT, INCIDENTAL, SPECIAL, EXEMPLARY, OR CONSEQUENTIAL\n",
      "DAMAGES (INCLUDING, BUT NOT LIMITED TO, PROCUREMENT OF SUBSTITUTE GOODS OR\n",
      "SERVICES; LOSS OF USE, DATA, OR PROFITS; OR BUSINESS INTERRUPTION) HOWEVER\n",
      "CAUSED AND ON ANY THEORY OF LIABILITY, WHETHER IN CONTRACT, STRICT LIABILITY,\n",
      "OR TORT (INCLUDING NEGLIGENCE OR OTHERWISE) ARISING IN ANY WAY OUT OF THE USE\n",
      "OF THIS SOFTWARE, EVEN IF ADVISED OF THE POSSIBILITY OF SUCH DAMAGE.\n",
      "Location: c:\\Users\\Gabriel\\anaconda3\\Lib\\site-packages\n",
      "Requires: numpy, python-dateutil, pytz, tzdata\n",
      "Required-by: altair, bokeh, dask-expr, datashader, holoviews, hvplot, panel, seaborn, statsmodels, streamlit, xarray\n",
      "Note: you may need to restart the kernel to use updated packages.\n"
     ]
    }
   ],
   "source": [
    "pip show pandas"
   ]
  },
  {
   "cell_type": "code",
   "execution_count": null,
   "metadata": {},
   "outputs": [],
   "source": []
  }
 ],
 "metadata": {
  "kernelspec": {
   "display_name": "base",
   "language": "python",
   "name": "python3"
  },
  "language_info": {
   "codemirror_mode": {
    "name": "ipython",
    "version": 3
   },
   "file_extension": ".py",
   "mimetype": "text/x-python",
   "name": "python",
   "nbconvert_exporter": "python",
   "pygments_lexer": "ipython3",
   "version": "3.11.7"
  }
 },
 "nbformat": 4,
 "nbformat_minor": 2
}
