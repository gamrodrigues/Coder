{
 "cells": [
  {
   "cell_type": "markdown",
   "metadata": {},
   "source": [
    "# Virtual Environment"
   ]
  },
  {
   "cell_type": "markdown",
   "metadata": {},
   "source": [
    "Atualizando o pip"
   ]
  },
  {
   "cell_type": "code",
   "execution_count": 3,
   "metadata": {},
   "outputs": [
    {
     "name": "stdout",
     "output_type": "stream",
     "text": [
      "Name: pip\n",
      "Version: 24.2\n",
      "Summary: The PyPA recommended tool for installing Python packages.\n",
      "Home-page: https://pip.pypa.io/\n",
      "Author: \n",
      "Author-email: The pip developers <distutils-sig@python.org>\n",
      "License: MIT\n",
      "Location: c:\\Users\\Gabriel\\Documents\\Escola\\Aulas\\Git_aulas\\Coder\\myenv\\Lib\\site-packages\n",
      "Requires: \n",
      "Required-by: \n",
      "Note: you may need to restart the kernel to use updated packages.\n"
     ]
    }
   ],
   "source": [
    "pip show pip"
   ]
  },
  {
   "cell_type": "code",
   "execution_count": 2,
   "metadata": {},
   "outputs": [
    {
     "name": "stdout",
     "output_type": "stream",
     "text": [
      "Requirement already satisfied: pip in c:\\users\\gabriel\\documents\\escola\\aulas\\git_aulas\\coder\\myenv\\lib\\site-packages (24.0)\n",
      "Collecting pip\n",
      "  Using cached pip-24.2-py3-none-any.whl.metadata (3.6 kB)\n",
      "Using cached pip-24.2-py3-none-any.whl (1.8 MB)\n",
      "Installing collected packages: pip\n",
      "  Attempting uninstall: pip\n",
      "    Found existing installation: pip 24.0\n",
      "    Uninstalling pip-24.0:\n",
      "      Successfully uninstalled pip-24.0\n",
      "Successfully installed pip-24.2\n",
      "Note: you may need to restart the kernel to use updated packages.\n"
     ]
    }
   ],
   "source": [
    "pip install --upgrade pip"
   ]
  },
  {
   "cell_type": "code",
   "execution_count": 28,
   "metadata": {},
   "outputs": [],
   "source": [
    "#caso o pip não atualize, ver a versão de atualização do bash"
   ]
  },
  {
   "cell_type": "markdown",
   "metadata": {},
   "source": []
  },
  {
   "cell_type": "markdown",
   "metadata": {},
   "source": [
    "Instalando pandas na versão mais atual"
   ]
  },
  {
   "cell_type": "code",
   "execution_count": 4,
   "metadata": {},
   "outputs": [
    {
     "name": "stdout",
     "output_type": "stream",
     "text": [
      "Collecting pandasNote: you may need to restart the kernel to use updated packages.\n",
      "\n",
      "  Downloading pandas-2.2.2-cp312-cp312-win_amd64.whl.metadata (19 kB)\n",
      "Collecting numpy>=1.26.0 (from pandas)\n",
      "  Downloading numpy-2.0.1-cp312-cp312-win_amd64.whl.metadata (60 kB)\n",
      "Requirement already satisfied: python-dateutil>=2.8.2 in c:\\users\\gabriel\\documents\\escola\\aulas\\git_aulas\\coder\\myenv\\lib\\site-packages (from pandas) (2.9.0.post0)\n",
      "Collecting pytz>=2020.1 (from pandas)\n",
      "  Downloading pytz-2024.1-py2.py3-none-any.whl.metadata (22 kB)\n",
      "Collecting tzdata>=2022.7 (from pandas)\n",
      "  Downloading tzdata-2024.1-py2.py3-none-any.whl.metadata (1.4 kB)\n",
      "Requirement already satisfied: six>=1.5 in c:\\users\\gabriel\\documents\\escola\\aulas\\git_aulas\\coder\\myenv\\lib\\site-packages (from python-dateutil>=2.8.2->pandas) (1.16.0)\n",
      "Downloading pandas-2.2.2-cp312-cp312-win_amd64.whl (11.5 MB)\n",
      "   ---------------------------------------- 0.0/11.5 MB ? eta -:--:--\n",
      "   - -------------------------------------- 0.5/11.5 MB 2.4 MB/s eta 0:00:05\n",
      "   ----- ---------------------------------- 1.6/11.5 MB 4.2 MB/s eta 0:00:03\n",
      "   ---------- ----------------------------- 3.1/11.5 MB 5.4 MB/s eta 0:00:02\n",
      "   ------------------- -------------------- 5.5/11.5 MB 7.0 MB/s eta 0:00:01\n",
      "   ------------------------------- -------- 8.9/11.5 MB 9.1 MB/s eta 0:00:01\n",
      "   ---------------------------------------- 11.5/11.5 MB 10.4 MB/s eta 0:00:00\n",
      "Downloading numpy-2.0.1-cp312-cp312-win_amd64.whl (16.3 MB)\n",
      "   ---------------------------------------- 0.0/16.3 MB ? eta -:--:--\n",
      "   ------- -------------------------------- 3.1/16.3 MB 26.2 MB/s eta 0:00:01\n",
      "   --------------------- ------------------ 8.7/16.3 MB 19.9 MB/s eta 0:00:01\n",
      "   ---------------------------------------- 16.3/16.3 MB 27.7 MB/s eta 0:00:00\n",
      "Downloading pytz-2024.1-py2.py3-none-any.whl (505 kB)\n",
      "Downloading tzdata-2024.1-py2.py3-none-any.whl (345 kB)\n",
      "Installing collected packages: pytz, tzdata, numpy, pandas\n",
      "Successfully installed numpy-2.0.1 pandas-2.2.2 pytz-2024.1 tzdata-2024.1\n"
     ]
    }
   ],
   "source": [
    "pip install --upgrade pandas"
   ]
  },
  {
   "cell_type": "markdown",
   "metadata": {},
   "source": [
    "Verificando a versão"
   ]
  },
  {
   "cell_type": "code",
   "execution_count": 5,
   "metadata": {},
   "outputs": [
    {
     "name": "stdout",
     "output_type": "stream",
     "text": [
      "Name: pandas\n",
      "Version: 2.2.2\n",
      "Summary: Powerful data structures for data analysis, time series, and statistics\n",
      "Home-page: https://pandas.pydata.org\n",
      "Author: \n",
      "Author-email: The Pandas Development Team <pandas-dev@python.org>\n",
      "License: BSD 3-Clause License\n",
      "\n",
      "Copyright (c) 2008-2011, AQR Capital Management, LLC, Lambda Foundry, Inc. and PyData Development Team\n",
      "All rights reserved.\n",
      "\n",
      "Copyright (c) 2011-2023, Open source contributors.\n",
      "\n",
      "Redistribution and use in source and binary forms, with or without\n",
      "modification, are permitted provided that the following conditions are met:\n",
      "\n",
      "* Redistributions of source code must retain the above copyright notice, this\n",
      "  list of conditions and the following disclaimer.\n",
      "\n",
      "* Redistributions in binary form must reproduce the above copyright notice,\n",
      "  this list of conditions and the following disclaimer in the documentation\n",
      "  and/or other materials provided with the distribution.\n",
      "\n",
      "* Neither the name of the copyright holder nor the names of its\n",
      "  contributors may be used to endorse or promote products derived from\n",
      "  this software without specific prior written permission.\n",
      "\n",
      "THIS SOFTWARE IS PROVIDED BY THE COPYRIGHT HOLDERS AND CONTRIBUTORS \"AS IS\"\n",
      "AND ANY EXPRESS OR IMPLIED WARRANTIES, INCLUDING, BUT NOT LIMITED TO, THE\n",
      "IMPLIED WARRANTIES OF MERCHANTABILITY AND FITNESS FOR A PARTICULAR PURPOSE ARE\n",
      "DISCLAIMED. IN NO EVENT SHALL THE COPYRIGHT HOLDER OR CONTRIBUTORS BE LIABLE\n",
      "FOR ANY DIRECT, INDIRECT, INCIDENTAL, SPECIAL, EXEMPLARY, OR CONSEQUENTIAL\n",
      "DAMAGES (INCLUDING, BUT NOT LIMITED TO, PROCUREMENT OF SUBSTITUTE GOODS OR\n",
      "SERVICES; LOSS OF USE, DATA, OR PROFITS; OR BUSINESS INTERRUPTION) HOWEVER\n",
      "CAUSED AND ON ANY THEORY OF LIABILITY, WHETHER IN CONTRACT, STRICT LIABILITY,\n",
      "OR TORT (INCLUDING NEGLIGENCE OR OTHERWISE) ARISING IN ANY WAY OUT OF THE USE\n",
      "OF THIS SOFTWARE, EVEN IF ADVISED OF THE POSSIBILITY OF SUCH DAMAGE.\n",
      "Location: c:\\Users\\Gabriel\\Documents\\Escola\\Aulas\\Git_aulas\\Coder\\myenv\\Lib\\site-packages\n",
      "Requires: numpy, python-dateutil, pytz, tzdata\n",
      "Required-by: \n",
      "Note: you may need to restart the kernel to use updated packages.\n"
     ]
    }
   ],
   "source": [
    "pip show pandas"
   ]
  },
  {
   "cell_type": "markdown",
   "metadata": {},
   "source": [
    "Criando um arquivo no diretório ativo (com as versões das bibliotecas instaladas)"
   ]
  },
  {
   "cell_type": "code",
   "execution_count": 7,
   "metadata": {},
   "outputs": [
    {
     "name": "stdout",
     "output_type": "stream",
     "text": [
      "Note: you may need to restart the kernel to use updated packages.\n"
     ]
    }
   ],
   "source": [
    "pip freeze > requirements.txt"
   ]
  },
  {
   "cell_type": "markdown",
   "metadata": {},
   "source": [
    "Modificando o arquivo para manter somente os pacotes instalados nas versões específicas"
   ]
  },
  {
   "cell_type": "code",
   "execution_count": 8,
   "metadata": {},
   "outputs": [],
   "source": [
    "import pandas as pd\n",
    "requirements=pd.Series(pd.read_csv('requirements.txt', header=None).iloc[:,0])\n",
    "pd.DataFrame(requirements[requirements.str.contains('==')]).to_csv('requirements.txt', index=False, columns=None)"
   ]
  },
  {
   "cell_type": "markdown",
   "metadata": {},
   "source": [
    "Fixando uma versão específica do pandas anterior à salva em requirements"
   ]
  },
  {
   "cell_type": "code",
   "execution_count": 9,
   "metadata": {},
   "outputs": [
    {
     "name": "stdout",
     "output_type": "stream",
     "text": [
      "Collecting pandas==2.1.1Note: you may need to restart the kernel to use updated packages.\n",
      "\n",
      "  Downloading pandas-2.1.1-cp312-cp312-win_amd64.whl.metadata (18 kB)\n",
      "Requirement already satisfied: numpy>=1.26.0 in c:\\users\\gabriel\\documents\\escola\\aulas\\git_aulas\\coder\\myenv\\lib\\site-packages (from pandas==2.1.1) (2.0.1)\n",
      "Requirement already satisfied: python-dateutil>=2.8.2 in c:\\users\\gabriel\\documents\\escola\\aulas\\git_aulas\\coder\\myenv\\lib\\site-packages (from pandas==2.1.1) (2.9.0.post0)\n",
      "Requirement already satisfied: pytz>=2020.1 in c:\\users\\gabriel\\documents\\escola\\aulas\\git_aulas\\coder\\myenv\\lib\\site-packages (from pandas==2.1.1) (2024.1)\n",
      "Requirement already satisfied: tzdata>=2022.1 in c:\\users\\gabriel\\documents\\escola\\aulas\\git_aulas\\coder\\myenv\\lib\\site-packages (from pandas==2.1.1) (2024.1)\n",
      "Requirement already satisfied: six>=1.5 in c:\\users\\gabriel\\documents\\escola\\aulas\\git_aulas\\coder\\myenv\\lib\\site-packages (from python-dateutil>=2.8.2->pandas==2.1.1) (1.16.0)\n",
      "Downloading pandas-2.1.1-cp312-cp312-win_amd64.whl (10.5 MB)\n",
      "   ---------------------------------------- 0.0/10.5 MB ? eta -:--:--\n",
      "   --------------- ------------------------ 4.2/10.5 MB 31.5 MB/s eta 0:00:01\n",
      "   ------------------ --------------------- 5.0/10.5 MB 13.1 MB/s eta 0:00:01\n",
      "   ----------------------- ---------------- 6.3/10.5 MB 12.5 MB/s eta 0:00:01\n",
      "   ------------------------------- -------- 8.4/10.5 MB 11.8 MB/s eta 0:00:01\n",
      "   ---------------------------------------- 10.5/10.5 MB 10.6 MB/s eta 0:00:00\n",
      "Installing collected packages: pandas\n",
      "  Attempting uninstall: pandas\n",
      "    Found existing installation: pandas 2.2.2\n",
      "    Uninstalling pandas-2.2.2:\n",
      "      Successfully uninstalled pandas-2.2.2\n",
      "Successfully installed pandas-2.1.1\n"
     ]
    },
    {
     "name": "stderr",
     "output_type": "stream",
     "text": [
      "  WARNING: Failed to remove contents in a temporary directory 'C:\\Users\\Gabriel\\Documents\\Escola\\Aulas\\Git_aulas\\Coder\\myenv\\Lib\\site-packages\\~andas.libs'.\n",
      "  You can safely remove it manually.\n",
      "  WARNING: Failed to remove contents in a temporary directory 'C:\\Users\\Gabriel\\Documents\\Escola\\Aulas\\Git_aulas\\Coder\\myenv\\Lib\\site-packages\\~andas'.\n",
      "  You can safely remove it manually.\n"
     ]
    }
   ],
   "source": [
    "pip install pandas==2.1.1"
   ]
  },
  {
   "cell_type": "markdown",
   "metadata": {},
   "source": [
    "Verificando a versão"
   ]
  },
  {
   "cell_type": "code",
   "execution_count": 10,
   "metadata": {},
   "outputs": [
    {
     "name": "stdout",
     "output_type": "stream",
     "text": [
      "Name: pandas\n",
      "Version: 2.1.1\n",
      "Summary: Powerful data structures for data analysis, time series, and statistics\n",
      "Home-page: https://pandas.pydata.org\n",
      "Author: \n",
      "Author-email: The Pandas Development Team <pandas-dev@python.org>\n",
      "License: BSD 3-Clause License\n",
      "\n",
      "Copyright (c) 2008-2011, AQR Capital Management, LLC, Lambda Foundry, Inc. and PyData Development Team\n",
      "All rights reserved.\n",
      "\n",
      "Copyright (c) 2011-2023, Open source contributors.\n",
      "\n",
      "Redistribution and use in source and binary forms, with or without\n",
      "modification, are permitted provided that the following conditions are met:\n",
      "\n",
      "* Redistributions of source code must retain the above copyright notice, this\n",
      "  list of conditions and the following disclaimer.\n",
      "\n",
      "* Redistributions in binary form must reproduce the above copyright notice,\n",
      "  this list of conditions and the following disclaimer in the documentation\n",
      "  and/or other materials provided with the distribution.\n",
      "\n",
      "* Neither the name of the copyright holder nor the names of its\n",
      "  contributors may be used to endorse or promote products derived from\n",
      "  this software without specific prior written permission.\n",
      "\n",
      "THIS SOFTWARE IS PROVIDED BY THE COPYRIGHT HOLDERS AND CONTRIBUTORS \"AS IS\"\n",
      "AND ANY EXPRESS OR IMPLIED WARRANTIES, INCLUDING, BUT NOT LIMITED TO, THE\n",
      "IMPLIED WARRANTIES OF MERCHANTABILITY AND FITNESS FOR A PARTICULAR PURPOSE ARE\n",
      "DISCLAIMED. IN NO EVENT SHALL THE COPYRIGHT HOLDER OR CONTRIBUTORS BE LIABLE\n",
      "FOR ANY DIRECT, INDIRECT, INCIDENTAL, SPECIAL, EXEMPLARY, OR CONSEQUENTIAL\n",
      "DAMAGES (INCLUDING, BUT NOT LIMITED TO, PROCUREMENT OF SUBSTITUTE GOODS OR\n",
      "SERVICES; LOSS OF USE, DATA, OR PROFITS; OR BUSINESS INTERRUPTION) HOWEVER\n",
      "CAUSED AND ON ANY THEORY OF LIABILITY, WHETHER IN CONTRACT, STRICT LIABILITY,\n",
      "OR TORT (INCLUDING NEGLIGENCE OR OTHERWISE) ARISING IN ANY WAY OUT OF THE USE\n",
      "OF THIS SOFTWARE, EVEN IF ADVISED OF THE POSSIBILITY OF SUCH DAMAGE.\n",
      "Location: c:\\Users\\Gabriel\\Documents\\Escola\\Aulas\\Git_aulas\\Coder\\myenv\\Lib\\site-packages\n",
      "Requires: numpy, python-dateutil, pytz, tzdata\n",
      "Required-by: \n",
      "Note: you may need to restart the kernel to use updated packages.\n"
     ]
    }
   ],
   "source": [
    "pip show pandas"
   ]
  },
  {
   "cell_type": "markdown",
   "metadata": {},
   "source": [
    "Instalando os arquivos nas versões salvas anteriormente"
   ]
  },
  {
   "cell_type": "code",
   "execution_count": 11,
   "metadata": {},
   "outputs": [
    {
     "name": "stdout",
     "output_type": "stream",
     "text": [
      "Collecting 0 (from -r requirements.txt (line 1))\n",
      "  Using cached 0-0.0.0-py2.py3-none-any.whl.metadata (702 bytes)\n",
      "Requirement already satisfied: asttokens==2.4.1 in c:\\users\\gabriel\\documents\\escola\\aulas\\git_aulas\\coder\\myenv\\lib\\site-packages (from -r requirements.txt (line 2)) (2.4.1)\n",
      "Requirement already satisfied: colorama==0.4.6 in c:\\users\\gabriel\\documents\\escola\\aulas\\git_aulas\\coder\\myenv\\lib\\site-packages (from -r requirements.txt (line 3)) (0.4.6)\n",
      "Requirement already satisfied: comm==0.2.2 in c:\\users\\gabriel\\documents\\escola\\aulas\\git_aulas\\coder\\myenv\\lib\\site-packages (from -r requirements.txt (line 4)) (0.2.2)\n",
      "Requirement already satisfied: debugpy==1.8.5 in c:\\users\\gabriel\\documents\\escola\\aulas\\git_aulas\\coder\\myenv\\lib\\site-packages (from -r requirements.txt (line 5)) (1.8.5)\n",
      "Requirement already satisfied: decorator==5.1.1 in c:\\users\\gabriel\\documents\\escola\\aulas\\git_aulas\\coder\\myenv\\lib\\site-packages (from -r requirements.txt (line 6)) (5.1.1)\n",
      "Requirement already satisfied: executing==2.0.1 in c:\\users\\gabriel\\documents\\escola\\aulas\\git_aulas\\coder\\myenv\\lib\\site-packages (from -r requirements.txt (line 7)) (2.0.1)\n",
      "Requirement already satisfied: ipykernel==6.29.5 in c:\\users\\gabriel\\documents\\escola\\aulas\\git_aulas\\coder\\myenv\\lib\\site-packages (from -r requirements.txt (line 8)) (6.29.5)\n",
      "Requirement already satisfied: ipython==8.26.0 in c:\\users\\gabriel\\documents\\escola\\aulas\\git_aulas\\coder\\myenv\\lib\\site-packages (from -r requirements.txt (line 9)) (8.26.0)\n",
      "Requirement already satisfied: jedi==0.19.1 in c:\\users\\gabriel\\documents\\escola\\aulas\\git_aulas\\coder\\myenv\\lib\\site-packages (from -r requirements.txt (line 10)) (0.19.1)\n",
      "Requirement already satisfied: jupyter_client==8.6.2 in c:\\users\\gabriel\\documents\\escola\\aulas\\git_aulas\\coder\\myenv\\lib\\site-packages (from -r requirements.txt (line 11)) (8.6.2)\n",
      "Requirement already satisfied: jupyter_core==5.7.2 in c:\\users\\gabriel\\documents\\escola\\aulas\\git_aulas\\coder\\myenv\\lib\\site-packages (from -r requirements.txt (line 12)) (5.7.2)\n",
      "Requirement already satisfied: matplotlib-inline==0.1.7 in c:\\users\\gabriel\\documents\\escola\\aulas\\git_aulas\\coder\\myenv\\lib\\site-packages (from -r requirements.txt (line 13)) (0.1.7)\n",
      "Requirement already satisfied: nest-asyncio==1.6.0 in c:\\users\\gabriel\\documents\\escola\\aulas\\git_aulas\\coder\\myenv\\lib\\site-packages (from -r requirements.txt (line 14)) (1.6.0)\n",
      "Requirement already satisfied: numpy==2.0.1 in c:\\users\\gabriel\\documents\\escola\\aulas\\git_aulas\\coder\\myenv\\lib\\site-packages (from -r requirements.txt (line 15)) (2.0.1)\n",
      "Requirement already satisfied: packaging==24.1 in c:\\users\\gabriel\\documents\\escola\\aulas\\git_aulas\\coder\\myenv\\lib\\site-packages (from -r requirements.txt (line 16)) (24.1)\n",
      "Collecting pandas==2.2.2 (from -r requirements.txt (line 17))\n",
      "  Using cached pandas-2.2.2-cp312-cp312-win_amd64.whl.metadata (19 kB)\n",
      "Requirement already satisfied: parso==0.8.4 in c:\\users\\gabriel\\documents\\escola\\aulas\\git_aulas\\coder\\myenv\\lib\\site-packages (from -r requirements.txt (line 18)) (0.8.4)\n",
      "Requirement already satisfied: platformdirs==4.2.2 in c:\\users\\gabriel\\documents\\escola\\aulas\\git_aulas\\coder\\myenv\\lib\\site-packages (from -r requirements.txt (line 19)) (4.2.2)\n",
      "Requirement already satisfied: prompt_toolkit==3.0.47 in c:\\users\\gabriel\\documents\\escola\\aulas\\git_aulas\\coder\\myenv\\lib\\site-packages (from -r requirements.txt (line 20)) (3.0.47)\n",
      "Requirement already satisfied: psutil==6.0.0 in c:\\users\\gabriel\\documents\\escola\\aulas\\git_aulas\\coder\\myenv\\lib\\site-packages (from -r requirements.txt (line 21)) (6.0.0)\n",
      "Requirement already satisfied: pure_eval==0.2.3 in c:\\users\\gabriel\\documents\\escola\\aulas\\git_aulas\\coder\\myenv\\lib\\site-packages (from -r requirements.txt (line 22)) (0.2.3)\n",
      "Requirement already satisfied: Pygments==2.18.0 in c:\\users\\gabriel\\documents\\escola\\aulas\\git_aulas\\coder\\myenv\\lib\\site-packages (from -r requirements.txt (line 23)) (2.18.0)\n",
      "Requirement already satisfied: python-dateutil==2.9.0.post0 in c:\\users\\gabriel\\documents\\escola\\aulas\\git_aulas\\coder\\myenv\\lib\\site-packages (from -r requirements.txt (line 24)) (2.9.0.post0)\n",
      "Requirement already satisfied: pytz==2024.1 in c:\\users\\gabriel\\documents\\escola\\aulas\\git_aulas\\coder\\myenv\\lib\\site-packages (from -r requirements.txt (line 25)) (2024.1)\n",
      "Requirement already satisfied: pywin32==306 in c:\\users\\gabriel\\documents\\escola\\aulas\\git_aulas\\coder\\myenv\\lib\\site-packages (from -r requirements.txt (line 26)) (306)\n",
      "Requirement already satisfied: pyzmq==26.1.0 in c:\\users\\gabriel\\documents\\escola\\aulas\\git_aulas\\coder\\myenv\\lib\\site-packages (from -r requirements.txt (line 27)) (26.1.0)\n",
      "Requirement already satisfied: six==1.16.0 in c:\\users\\gabriel\\documents\\escola\\aulas\\git_aulas\\coder\\myenv\\lib\\site-packages (from -r requirements.txt (line 28)) (1.16.0)\n",
      "Requirement already satisfied: stack-data==0.6.3 in c:\\users\\gabriel\\documents\\escola\\aulas\\git_aulas\\coder\\myenv\\lib\\site-packages (from -r requirements.txt (line 29)) (0.6.3)\n",
      "Requirement already satisfied: tornado==6.4.1 in c:\\users\\gabriel\\documents\\escola\\aulas\\git_aulas\\coder\\myenv\\lib\\site-packages (from -r requirements.txt (line 30)) (6.4.1)\n",
      "Requirement already satisfied: traitlets==5.14.3 in c:\\users\\gabriel\\documents\\escola\\aulas\\git_aulas\\coder\\myenv\\lib\\site-packages (from -r requirements.txt (line 31)) (5.14.3)\n",
      "Requirement already satisfied: tzdata==2024.1 in c:\\users\\gabriel\\documents\\escola\\aulas\\git_aulas\\coder\\myenv\\lib\\site-packages (from -r requirements.txt (line 32)) (2024.1)\n",
      "Requirement already satisfied: wcwidth==0.2.13 in c:\\users\\gabriel\\documents\\escola\\aulas\\git_aulas\\coder\\myenv\\lib\\site-packages (from -r requirements.txt (line 33)) (0.2.13)\n",
      "Using cached pandas-2.2.2-cp312-cp312-win_amd64.whl (11.5 MB)\n",
      "Using cached 0-0.0.0-py2.py3-none-any.whl (2.0 kB)\n",
      "Installing collected packages: 0, pandas\n",
      "  Attempting uninstall: pandas\n",
      "    Found existing installation: pandas 2.1.1\n",
      "    Uninstalling pandas-2.1.1:\n",
      "      Successfully uninstalled pandas-2.1.1\n",
      "Successfully installed 0-0.0.0 pandas-2.2.2\n",
      "Note: you may need to restart the kernel to use updated packages.\n"
     ]
    }
   ],
   "source": [
    "pip install -r requirements.txt"
   ]
  },
  {
   "cell_type": "markdown",
   "metadata": {},
   "source": [
    "Verificando a versão"
   ]
  },
  {
   "cell_type": "code",
   "execution_count": 12,
   "metadata": {},
   "outputs": [
    {
     "name": "stdout",
     "output_type": "stream",
     "text": [
      "Name: pandas\n",
      "Version: 2.2.2\n",
      "Summary: Powerful data structures for data analysis, time series, and statistics\n",
      "Home-page: https://pandas.pydata.org\n",
      "Author: \n",
      "Author-email: The Pandas Development Team <pandas-dev@python.org>\n",
      "License: BSD 3-Clause License\n",
      "\n",
      "Copyright (c) 2008-2011, AQR Capital Management, LLC, Lambda Foundry, Inc. and PyData Development Team\n",
      "All rights reserved.\n",
      "\n",
      "Copyright (c) 2011-2023, Open source contributors.\n",
      "\n",
      "Redistribution and use in source and binary forms, with or without\n",
      "modification, are permitted provided that the following conditions are met:\n",
      "\n",
      "* Redistributions of source code must retain the above copyright notice, this\n",
      "  list of conditions and the following disclaimer.\n",
      "\n",
      "* Redistributions in binary form must reproduce the above copyright notice,\n",
      "  this list of conditions and the following disclaimer in the documentation\n",
      "  and/or other materials provided with the distribution.\n",
      "\n",
      "* Neither the name of the copyright holder nor the names of its\n",
      "  contributors may be used to endorse or promote products derived from\n",
      "  this software without specific prior written permission.\n",
      "\n",
      "THIS SOFTWARE IS PROVIDED BY THE COPYRIGHT HOLDERS AND CONTRIBUTORS \"AS IS\"\n",
      "AND ANY EXPRESS OR IMPLIED WARRANTIES, INCLUDING, BUT NOT LIMITED TO, THE\n",
      "IMPLIED WARRANTIES OF MERCHANTABILITY AND FITNESS FOR A PARTICULAR PURPOSE ARE\n",
      "DISCLAIMED. IN NO EVENT SHALL THE COPYRIGHT HOLDER OR CONTRIBUTORS BE LIABLE\n",
      "FOR ANY DIRECT, INDIRECT, INCIDENTAL, SPECIAL, EXEMPLARY, OR CONSEQUENTIAL\n",
      "DAMAGES (INCLUDING, BUT NOT LIMITED TO, PROCUREMENT OF SUBSTITUTE GOODS OR\n",
      "SERVICES; LOSS OF USE, DATA, OR PROFITS; OR BUSINESS INTERRUPTION) HOWEVER\n",
      "CAUSED AND ON ANY THEORY OF LIABILITY, WHETHER IN CONTRACT, STRICT LIABILITY,\n",
      "OR TORT (INCLUDING NEGLIGENCE OR OTHERWISE) ARISING IN ANY WAY OUT OF THE USE\n",
      "OF THIS SOFTWARE, EVEN IF ADVISED OF THE POSSIBILITY OF SUCH DAMAGE.\n",
      "Location: c:\\Users\\Gabriel\\Documents\\Escola\\Aulas\\Git_aulas\\Coder\\myenv\\Lib\\site-packages\n",
      "Requires: numpy, python-dateutil, pytz, tzdata\n",
      "Required-by: \n",
      "Note: you may need to restart the kernel to use updated packages.\n"
     ]
    }
   ],
   "source": [
    "pip show pandas"
   ]
  },
  {
   "cell_type": "code",
   "execution_count": null,
   "metadata": {},
   "outputs": [],
   "source": []
  }
 ],
 "metadata": {
  "kernelspec": {
   "display_name": "base",
   "language": "python",
   "name": "python3"
  },
  "language_info": {
   "codemirror_mode": {
    "name": "ipython",
    "version": 3
   },
   "file_extension": ".py",
   "mimetype": "text/x-python",
   "name": "python",
   "nbconvert_exporter": "python",
   "pygments_lexer": "ipython3",
   "version": "3.11.7"
  }
 },
 "nbformat": 4,
 "nbformat_minor": 2
}
