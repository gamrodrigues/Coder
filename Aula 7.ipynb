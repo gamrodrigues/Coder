{
 "cells": [
  {
   "cell_type": "markdown",
   "metadata": {},
   "source": [
    "Introdução ao NUMPY"
   ]
  },
  {
   "cell_type": "code",
   "execution_count": null,
   "metadata": {},
   "outputs": [],
   "source": [
    "# pip install numpy"
   ]
  },
  {
   "cell_type": "code",
   "execution_count": 4,
   "metadata": {},
   "outputs": [],
   "source": [
    "##Importação\n",
    "import numpy as np"
   ]
  },
  {
   "cell_type": "code",
   "execution_count": 9,
   "metadata": {},
   "outputs": [
    {
     "name": "stdout",
     "output_type": "stream",
     "text": [
      "Escalar\n",
      " 5 \n",
      "\n",
      "Vetor linha\n",
      " [1 2 3] \n",
      "\n",
      "Vetor coluna\n",
      " [[1 2 3]] \n",
      "\n",
      "Matriz\n",
      " [[1 2 3]\n",
      " [4 5 6]] \n",
      "\n",
      "Tensor\n",
      " [[[ 1  2  3]\n",
      "  [ 4  5  6]]\n",
      "\n",
      " [[ 7  8  9]\n",
      "  [10 11 12]]]\n"
     ]
    }
   ],
   "source": [
    "##Arrays - construção\n",
    "#escalar\n",
    "print('Escalar\\n',5,'\\n')\n",
    "\n",
    "#vetor linha\n",
    "print('Vetor linha\\n', np.array([1,2,3]),'\\n')\n",
    "\n",
    "#vetor coluna\n",
    "print('Vetor coluna\\n', np.array([[1,2,3]]),'\\n')\n",
    "\n",
    "#matriz\n",
    "print('Matriz\\n', np.array([[1,2,3],[4,5,6]]), '\\n')\n",
    "\n",
    "#tensor\n",
    "print('Tensor\\n', np.array([[[1,2,3],[4,5,6]],[[7,8,9],[10,11,12]]]))\n"
   ]
  },
  {
   "cell_type": "code",
   "execution_count": 18,
   "metadata": {},
   "outputs": [
    {
     "name": "stdout",
     "output_type": "stream",
     "text": [
      "Tipo matriz 1:  int32\n",
      "Tipo matriz 2:  float64\n",
      "dimensão matriz 1:  (2, 3)\n",
      "dimensão matriz 2:  (3, 4)\n"
     ]
    }
   ],
   "source": [
    "##Arrays - atributos\n",
    "#dtype\n",
    "array_matriz_1=np.array([[1,2,3],[4,5,6]])\n",
    "print('Tipo matriz 1: ',array_matriz_1.dtype)\n",
    "array_matriz_2=np.array([[1.0,2,3,4],[4,5,6,4],[10,8,4,20]])\n",
    "print('Tipo matriz 2: ',array_matriz_2.dtype)\n",
    "#shape\n",
    "print('dimensão matriz 1: ',array_matriz_1.shape)\n",
    "print('dimensão matriz 2: ',array_matriz_2.shape)"
   ]
  },
  {
   "cell_type": "code",
   "execution_count": 81,
   "metadata": {},
   "outputs": [
    {
     "data": {
      "text/plain": [
       "numpy.ndarray"
      ]
     },
     "execution_count": 81,
     "metadata": {},
     "output_type": "execute_result"
    }
   ],
   "source": [
    "type(array_matriz_1)"
   ]
  },
  {
   "cell_type": "code",
   "execution_count": 22,
   "metadata": {},
   "outputs": [
    {
     "name": "stdout",
     "output_type": "stream",
     "text": [
      "arrays de uns\n",
      " [[1. 1. 1.]\n",
      " [1. 1. 1.]\n",
      " [1. 1. 1.]] \n",
      "\n",
      "arrays de zeros\n",
      " [[0. 0.]\n",
      " [0. 0.]\n",
      " [0. 0.]\n",
      " [0. 0.]\n",
      " [0. 0.]] \n",
      "\n",
      "arrays de valores identicos\n",
      " [[51 51 51 51 51 51 51 51 51 51]\n",
      " [51 51 51 51 51 51 51 51 51 51]] \n",
      "\n"
     ]
    }
   ],
   "source": [
    "##Arrays - construção padronizada\n",
    "#arrays de uns\n",
    "print('arrays de uns\\n', np.ones((3,3)), '\\n')\n",
    "\n",
    "#arrays de zeros\n",
    "print('arrays de zeros\\n', np.zeros((5,2)), '\\n')\n",
    "\n",
    "#arrays com números identicos\n",
    "print('arrays de valores identicos\\n', np.full((2,10),51), '\\n')\n"
   ]
  },
  {
   "cell_type": "code",
   "execution_count": 80,
   "metadata": {},
   "outputs": [
    {
     "name": "stdout",
     "output_type": "stream",
     "text": [
      "[[0.416 0.058 0.12 ]\n",
      " [0.629 0.129 0.172]]\n"
     ]
    },
    {
     "data": {
      "text/plain": [
       "array([[3, 3, 1],\n",
       "       [6, 6, 7],\n",
       "       [6, 7, 1]])"
      ]
     },
     "execution_count": 80,
     "metadata": {},
     "output_type": "execute_result"
    }
   ],
   "source": [
    "##Arrays - aleatórios\n",
    "#Rand\n",
    "print(np.random.rand(2,3).round(3))\n",
    "#Randint\n",
    "np.random.randint(0,10,(3,3))"
   ]
  },
  {
   "cell_type": "code",
   "execution_count": 90,
   "metadata": {},
   "outputs": [
    {
     "data": {
      "text/plain": [
       "array([[40, 15, 72, 22],\n",
       "       [43, 82, 75,  7],\n",
       "       [34, 49, 95, 75],\n",
       "       [85, 47, 63, 31]])"
      ]
     },
     "execution_count": 90,
     "metadata": {},
     "output_type": "execute_result"
    }
   ],
   "source": [
    "##Arrays - indexação\n",
    "np.random.seed(2)\n",
    "matriz=np.random.randint(0,100,(4,4))\n",
    "matriz"
   ]
  },
  {
   "cell_type": "code",
   "execution_count": 110,
   "metadata": {},
   "outputs": [
    {
     "data": {
      "text/plain": [
       "array([40, 43, 34, 85])"
      ]
     },
     "execution_count": 110,
     "metadata": {},
     "output_type": "execute_result"
    }
   ],
   "source": [
    "matriz[:,0]"
   ]
  },
  {
   "cell_type": "code",
   "execution_count": 109,
   "metadata": {},
   "outputs": [
    {
     "data": {
      "text/plain": [
       "14325545.999999972"
      ]
     },
     "execution_count": 109,
     "metadata": {},
     "output_type": "execute_result"
    }
   ],
   "source": [
    "##Arrays - operações\n",
    "np.linalg.det(matriz)"
   ]
  },
  {
   "cell_type": "code",
   "execution_count": 111,
   "metadata": {},
   "outputs": [
    {
     "data": {
      "text/plain": [
       "array([[40, 15, 72, 22],\n",
       "       [43, 82, 75,  7],\n",
       "       [34, 49, 95, 75],\n",
       "       [85, 47, 63, 31]])"
      ]
     },
     "execution_count": 111,
     "metadata": {},
     "output_type": "execute_result"
    }
   ],
   "source": [
    "matriz"
   ]
  },
  {
   "cell_type": "code",
   "execution_count": 117,
   "metadata": {},
   "outputs": [
    {
     "data": {
      "text/plain": [
       "array([['recuperação', 'reprovado', 'Aprovado', 'reprovado'],\n",
       "       ['recuperação', 'Aprovado', 'Aprovado', 'reprovado'],\n",
       "       ['reprovado', 'recuperação', 'Aprovado', 'Aprovado'],\n",
       "       ['Aprovado', 'recuperação', 'Aprovado', 'reprovado']], dtype='<U11')"
      ]
     },
     "execution_count": 117,
     "metadata": {},
     "output_type": "execute_result"
    }
   ],
   "source": [
    "##Arrays - Where\n",
    "teste=np.where(matriz<40, 'reprovado', \n",
    "               np.where(matriz<60, 'recuperação','Aprovado' ))\n",
    "teste"
   ]
  },
  {
   "cell_type": "markdown",
   "metadata": {},
   "source": [
    "Introdução ao Pandas"
   ]
  },
  {
   "cell_type": "code",
   "execution_count": null,
   "metadata": {},
   "outputs": [],
   "source": [
    "# pip install pandas"
   ]
  },
  {
   "cell_type": "code",
   "execution_count": 119,
   "metadata": {},
   "outputs": [],
   "source": [
    "import pandas as pd"
   ]
  },
  {
   "cell_type": "code",
   "execution_count": 122,
   "metadata": {},
   "outputs": [
    {
     "data": {
      "text/plain": [
       "0    1\n",
       "1    2\n",
       "2    3\n",
       "dtype: int32"
      ]
     },
     "execution_count": 122,
     "metadata": {},
     "output_type": "execute_result"
    }
   ],
   "source": [
    "#Tipo Series\n",
    "pd.Series(np.array([1,2,3]))"
   ]
  },
  {
   "cell_type": "code",
   "execution_count": 124,
   "metadata": {},
   "outputs": [
    {
     "data": {
      "text/html": [
       "<div>\n",
       "<style scoped>\n",
       "    .dataframe tbody tr th:only-of-type {\n",
       "        vertical-align: middle;\n",
       "    }\n",
       "\n",
       "    .dataframe tbody tr th {\n",
       "        vertical-align: top;\n",
       "    }\n",
       "\n",
       "    .dataframe thead th {\n",
       "        text-align: right;\n",
       "    }\n",
       "</style>\n",
       "<table border=\"1\" class=\"dataframe\">\n",
       "  <thead>\n",
       "    <tr style=\"text-align: right;\">\n",
       "      <th></th>\n",
       "      <th>portugues</th>\n",
       "      <th>matematica</th>\n",
       "      <th>ciencias</th>\n",
       "      <th>geografia</th>\n",
       "    </tr>\n",
       "  </thead>\n",
       "  <tbody>\n",
       "    <tr>\n",
       "      <th>0</th>\n",
       "      <td>40</td>\n",
       "      <td>15</td>\n",
       "      <td>72</td>\n",
       "      <td>22</td>\n",
       "    </tr>\n",
       "    <tr>\n",
       "      <th>1</th>\n",
       "      <td>43</td>\n",
       "      <td>82</td>\n",
       "      <td>75</td>\n",
       "      <td>7</td>\n",
       "    </tr>\n",
       "    <tr>\n",
       "      <th>2</th>\n",
       "      <td>34</td>\n",
       "      <td>49</td>\n",
       "      <td>95</td>\n",
       "      <td>75</td>\n",
       "    </tr>\n",
       "    <tr>\n",
       "      <th>3</th>\n",
       "      <td>85</td>\n",
       "      <td>47</td>\n",
       "      <td>63</td>\n",
       "      <td>31</td>\n",
       "    </tr>\n",
       "  </tbody>\n",
       "</table>\n",
       "</div>"
      ],
      "text/plain": [
       "   portugues  matematica  ciencias  geografia\n",
       "0         40          15        72         22\n",
       "1         43          82        75          7\n",
       "2         34          49        95         75\n",
       "3         85          47        63         31"
      ]
     },
     "execution_count": 124,
     "metadata": {},
     "output_type": "execute_result"
    }
   ],
   "source": [
    "#Tipo DataFrame\n",
    "pd.DataFrame(matriz, columns=['portugues', 'matematica', 'ciencias', 'geografia'])"
   ]
  }
 ],
 "metadata": {
  "kernelspec": {
   "display_name": "base",
   "language": "python",
   "name": "python3"
  },
  "language_info": {
   "codemirror_mode": {
    "name": "ipython",
    "version": 3
   },
   "file_extension": ".py",
   "mimetype": "text/x-python",
   "name": "python",
   "nbconvert_exporter": "python",
   "pygments_lexer": "ipython3",
   "version": "3.11.7"
  }
 },
 "nbformat": 4,
 "nbformat_minor": 2
}
