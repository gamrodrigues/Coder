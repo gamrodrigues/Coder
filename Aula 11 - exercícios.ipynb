{
 "cells": [
  {
   "cell_type": "markdown",
   "metadata": {},
   "source": [
    "Mão na massa"
   ]
  },
  {
   "cell_type": "code",
   "execution_count": null,
   "metadata": {},
   "outputs": [],
   "source": [
    "import pandas as pd\n",
    "from matplotlib import pyplot as plt\n",
    "import seaborn as sns"
   ]
  },
  {
   "cell_type": "code",
   "execution_count": null,
   "metadata": {},
   "outputs": [],
   "source": [
    "fastfood=pd.read_excel('fastfood.xlsx')"
   ]
  },
  {
   "cell_type": "code",
   "execution_count": null,
   "metadata": {},
   "outputs": [],
   "source": [
    "fastfood.info()"
   ]
  },
  {
   "cell_type": "code",
   "execution_count": null,
   "metadata": {},
   "outputs": [],
   "source": [
    "fastfood.head()"
   ]
  },
  {
   "cell_type": "code",
   "execution_count": null,
   "metadata": {},
   "outputs": [],
   "source": [
    "fig,ax = plt.subplots()\n",
    "restaurantes=fastfood.restaurant.value_counts().reset_index().rename({'count':'quantidade'}, axis=1)\n",
    "ax.bar(restaurantes.restaurant, restaurantes.quantidade, color='gold')\n",
    "ax.tick_params(axis='x', labelrotation=90)\n",
    "ax.set_title('Restaurantes')"
   ]
  },
  {
   "cell_type": "code",
   "execution_count": null,
   "metadata": {},
   "outputs": [],
   "source": [
    "fig,ax = plt.subplots()\n",
    "ax.hist(fastfood.calories, color='darkslategray')\n",
    "ax.set_title('Calorias')"
   ]
  },
  {
   "cell_type": "code",
   "execution_count": null,
   "metadata": {},
   "outputs": [],
   "source": [
    "bp=sns.boxplot(fastfood.cholesterol, color='deeppink')\n",
    "bp.set_title('Colesterol')"
   ]
  },
  {
   "cell_type": "code",
   "execution_count": null,
   "metadata": {},
   "outputs": [],
   "source": [
    "bp=sns.boxplot(y='cholesterol', x='restaurant', data=fastfood)\n",
    "bp.set_xticklabels(bp.get_xticklabels(),rotation=30)\n",
    "bp.set_title('Colesterol x Restaurante')"
   ]
  },
  {
   "cell_type": "code",
   "execution_count": null,
   "metadata": {},
   "outputs": [],
   "source": [
    "dp=sns.scatterplot(x='sodium', y='protein', data=fastfood)\n",
    "dp.set_title('Sódio x Proteina')"
   ]
  },
  {
   "cell_type": "code",
   "execution_count": null,
   "metadata": {},
   "outputs": [],
   "source": [
    "dp=sns.scatterplot(x='sodium', y='protein', hue='restaurant', data=fastfood)\n",
    "dp.set_title('Sódio x Proteina por Restaurante')"
   ]
  },
  {
   "cell_type": "code",
   "execution_count": null,
   "metadata": {},
   "outputs": [],
   "source": [
    "dp=sns.scatterplot(x='sodium', y='protein', hue='calcium', data=fastfood)\n",
    "dp.set_title('Sódio x Proteina por Cálcio')"
   ]
  }
 ],
 "metadata": {
  "kernelspec": {
   "display_name": "base",
   "language": "python",
   "name": "python3"
  },
  "language_info": {
   "codemirror_mode": {
    "name": "ipython",
    "version": 3
   },
   "file_extension": ".py",
   "mimetype": "text/x-python",
   "name": "python",
   "nbconvert_exporter": "python",
   "pygments_lexer": "ipython3",
   "version": "3.11.7"
  }
 },
 "nbformat": 4,
 "nbformat_minor": 2
}
